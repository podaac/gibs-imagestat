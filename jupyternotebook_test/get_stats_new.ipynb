{
 "cells": [
  {
   "cell_type": "code",
   "execution_count": 20,
   "id": "0a7e8729-0717-4123-83a7-3fd70dad7ab7",
   "metadata": {},
   "outputs": [],
   "source": [
    "from fastapi import FastAPI, Response\n",
    "from datetime import datetime\n",
    "from flask import request\n",
    "import datetime\n",
    "from urllib.request import urlopen\n",
    "from PIL import Image,ImageDraw, ImageFont\n",
    "import requests\n",
    "import numpy as np\n",
    "import pandas as pd\n",
    "from bs4 import BeautifulSoup\n",
    "import io\n",
    "from starlette.responses import StreamingResponse\n",
    "import xarray as xr\n",
    "import httplib2\n"
   ]
  },
  {
   "cell_type": "code",
   "execution_count": 10,
   "id": "e5f81bef-bcdc-486b-986a-c7f6ad4c955b",
   "metadata": {},
   "outputs": [
    {
     "ename": "TypeError",
     "evalue": "open() missing 1 required positional argument: 'fp'",
     "output_type": "error",
     "traceback": [
      "\u001B[0;31m---------------------------------------------------------------------------\u001B[0m",
      "\u001B[0;31mTypeError\u001B[0m                                 Traceback (most recent call last)",
      "Input \u001B[0;32mIn [10]\u001B[0m, in \u001B[0;36m<cell line: 1>\u001B[0;34m()\u001B[0m\n\u001B[0;32m----> 1\u001B[0m \u001B[43mImage\u001B[49m\u001B[38;5;241;43m.\u001B[39;49m\u001B[43mopen\u001B[49m\u001B[43m(\u001B[49m\u001B[43m)\u001B[49m\n",
      "\u001B[0;31mTypeError\u001B[0m: open() missing 1 required positional argument: 'fp'"
     ]
    }
   ],
   "source": [
    "Image.open()"
   ]
  },
  {
   "cell_type": "code",
   "execution_count": 21,
   "id": "193fb100-669d-4f4c-ae19-66cac9745754",
   "metadata": {},
   "outputs": [],
   "source": [
    "def get_stats(minx:float,miny:float,maxx:float,maxy:float,timestamp:str,format:str, scale:int = 1, layer='GHRSST_L4_MUR_Sea_Surface_Temperature', colormap = 'GHRSST_Sea_Surface_Temperature.xml'):\n",
    "\n",
    "    timestamp = timestamp.replace('-T','T')  # Addreessing timestamp formatting issue\n",
    "\n",
    "    resolution = 2\n",
    "\n",
    "    map_height=180*resolution\n",
    "    map_width=360*resolution\n",
    "\n",
    "    ###wms_url = 'https://gibs.earthdata.nasa.gov/wms/epsg4326/best/wms.cgi?SERVICE=WMS&VERSION=1.3.0&REQUEST=GetMap&BBOX=-90,-180,90,180&CRS=EPSG:4326&WIDTH='+str(map_width)+'&HEIGHT='+str(map_height)+'&LAYERS=MODIS_AQUA_L3_Sea_Ice_Daily&STYLES=&FORMAT=image/png&TIME='+timestamp\n",
    "    wms_url = f'https://gibs.earthdata.nasa.gov/wms/epsg4326/best/wms.cgi?SERVICE=WMS&VERSION=1.3.0&REQUEST=GetMap&BBOX=-90,-180,90,180&CRS=EPSG:4326&WIDTH='+str(map_width)+'&HEIGHT='+str(map_height)+f'&LAYERS={layer}&STYLES=&FORMAT=image/png&TIME='+timestamp\n",
    "    print (wms_url)\n",
    "    img_bytes = urlopen(wms_url).read()\n",
    "    im = Image.open(requests.get(wms_url, stream=True).raw)\n",
    "    \n",
    "    data = np.array(im)\n",
    "\n",
    "    ###colormap_url = 'https://gibs.earthdata.nasa.gov/colormaps/v1.3/MODIS_Sea_Ice_Daily.xml'\n",
    "    colormap_url= f'https://gibs.earthdata.nasa.gov/colormaps/v1.3/{colormap.replace(\".xml\",\"\")}.xml'\n",
    "\n",
    "    #colormap_url = f'https://gibs.earthdata.nasa.gov/colormaps/v1.3/GHRSST_Sea_Surface_Temperature.xml'\n",
    "\n",
    "    colormap_document = requests.get(colormap_url)\n",
    "    colormap_document_soup= BeautifulSoup(colormap_document.content,\"lxml-xml\")\n",
    "\n",
    "    colormap_entries = colormap_document_soup.find_all(\"ColorMapEntry\",{\"value\": True})\n",
    "    color_entry_dict={}\n",
    "    for row in colormap_entries:\n",
    "        color_entry={tuple(map(int, (row.attrs['rgb']+',255').split(\",\"))):float(row.attrs['value'][1:-1].split(',')[0].replace(\"INF\", \"0\"))}\n",
    "        color_entry_dict.update(color_entry)\n",
    "\n",
    "    # pixels = im.load() # create the pixel map\n",
    "    pixels = np.asarray(im)\n",
    "    out = np.zeros((im.size[1], im.size[0]))\n",
    "    for i in range(im.size[0]): # for every pixel:\n",
    "        for j in range(im.size[1]):\n",
    "        #out[j-1,i-1] = getValueFromColor(pixels[j,i],color_entry_dict)\n",
    "            try:\n",
    "                out[j-1,i-1] = float(color_entry_dict[tuple(pixels[i,j])]) * scale\n",
    "            except:\n",
    "                out[j-1,i-1] = None \n",
    "    out_pandas = pd.DataFrame(out)\n",
    "    minx_grid = int((180 + minx)*resolution)\n",
    "    maxx_grid = int((180 + maxx)*resolution)\n",
    "    miny_grid = int((90-miny)*resolution)\n",
    "    maxy_grid = int((90-maxy)*resolution)\n",
    "\n",
    "    mean_value = np.nanmean(out_pandas[maxy_grid:miny_grid].iloc[:, minx_grid:maxx_grid].values).round(2)\n",
    "    min_value = np.nanmin(out_pandas[maxy_grid:miny_grid].iloc[:, minx_grid:maxx_grid].values).round(2)\n",
    "    max_value = np.nanmax(out_pandas[maxy_grid:miny_grid].iloc[:, minx_grid:maxx_grid].values).round(2)\n",
    "    stdev_value = np.nanstd(out_pandas[maxy_grid:miny_grid].iloc[:, minx_grid:maxx_grid].values).round(2)\n",
    "\n",
    "\n",
    "    msg = {\n",
    "        \"Mean\": mean_value,\n",
    "        \"Max\": max_value,\n",
    "        \"Min\": min_value,\n",
    "        \"StDev\": stdev_value\n",
    "    }\n",
    "\n",
    "    stats = {}\n",
    "    stats[\"mean\"] = str(mean_value)\n",
    "    stats[\"max\"] = str(max_value)\n",
    "    stats[\"min\"] = str(min_value)\n",
    "    stats[\"stdev\"] = str(stdev_value)\n",
    "    return stats"
   ]
  },
  {
   "cell_type": "code",
   "execution_count": 13,
   "id": "fb7bceb6-9f66-44ef-9541-eb17d4736ee2",
   "metadata": {},
   "outputs": [
    {
     "data": {
      "text/plain": [
       "(-160,\n",
       " -5,\n",
       " -150,\n",
       " 0,\n",
       " '2016-06-09T00:00:00Z',\n",
       " 'json',\n",
       " 1,\n",
       " 'MERRA2_2m_Air_Temperature_Assimilated_Monthly',\n",
       " 'MERRA2_2m_Air_Temperature_Assimilated_Monthly.xml')"
      ]
     },
     "execution_count": 13,
     "metadata": {},
     "output_type": "execute_result"
    }
   ],
   "source": [
    "minx=-160\n",
    "miny=-5\n",
    "maxx=-150\n",
    "maxy=0\n",
    "timestamp='2016-06-09T00:00:00Z'\n",
    "format_='json'\n",
    "layer='MERRA2_2m_Air_Temperature_Assimilated_Monthly'\n",
    "colormap='MERRA2_2m_Air_Temperature_Assimilated_Monthly.xml'\n",
    "scale = 1\n",
    "minx, miny,maxx,maxy, timestamp,format_, scale, layer, colormap"
   ]
  },
  {
   "cell_type": "markdown",
   "id": "6715a860-b985-4faa-868d-6f964927b2a2",
   "metadata": {},
   "source": [
    "miny=-5\n",
    "maxx=-150\n",
    "maxy=0\n",
    "timestamp='2016-06-09T00:00:00Z'\n",
    "format_='json'\n",
    "layer='MOPITT_CO_Daily_Surface_Mixing_Ratio_Day'\n",
    "colormap='MOPITT_CO_Daily_Surface_Mixing_Ratio_Day.xml'\n",
    "scale = 1\n",
    "get_stats(minx, miny,maxx,maxy, timestamp,format_, scale, layer, colormap)"
   ]
  },
  {
   "cell_type": "code",
   "execution_count": 14,
   "id": "f2f8513a-054d-435b-9f83-979f3756656c",
   "metadata": {},
   "outputs": [
    {
     "name": "stdout",
     "output_type": "stream",
     "text": [
      "https://gibs.earthdata.nasa.gov/wms/epsg4326/best/wms.cgi?SERVICE=WMS&VERSION=1.3.0&REQUEST=GetMap&BBOX=-90,-180,90,180&CRS=EPSG:4326&WIDTH=720&HEIGHT=360&LAYERS=GHRSST_L4_MUR_Sea_Surface_Temperature&STYLES=&FORMAT=image/png&TIME=2016-06-09T00:00:00Z\n"
     ]
    },
    {
     "data": {
      "text/plain": [
       "{'mean': '0.32', 'max': '2.1', 'min': '-0.0', 'stdev': '0.54'}"
      ]
     },
     "execution_count": 14,
     "metadata": {},
     "output_type": "execute_result"
    }
   ],
   "source": [
    "minx=-160\n",
    "miny=-5\n",
    "maxx=-150\n",
    "maxy=0\n",
    "timestamp='2016-06-09T00:00:00Z'\n",
    "format_='json'\n",
    "layer='GHRSST_L4_MUR_Sea_Surface_Temperature'\n",
    "colormap = 'GHRSST_Sea_Surface_Temperature.xml'\n",
    "scale = 1\n",
    "ignore_zeroes = False\n",
    "get_stats(minx, miny,maxx,maxy, timestamp,format_, scale, layer, colormap)"
   ]
  },
  {
   "cell_type": "code",
   "execution_count": 15,
   "id": "629f4ddc-11b0-49f7-adac-d33abd195912",
   "metadata": {},
   "outputs": [
    {
     "name": "stdout",
     "output_type": "stream",
     "text": [
      "https://gibs.earthdata.nasa.gov/wms/epsg4326/best/wms.cgi?SERVICE=WMS&VERSION=1.3.0&REQUEST=GetMap&BBOX=-90,-180,90,180&CRS=EPSG:4326&WIDTH=720&HEIGHT=360&LAYERS=MOPITT_CO_Monthly_Total_Column_Day&STYLES=&FORMAT=image/png&TIME=2016-06-09T00:00:00Z\n"
     ]
    },
    {
     "data": {
      "text/plain": [
       "{'mean': '1.7841249999999997e+18',\n",
       " 'max': '2.1875e+18',\n",
       " 'min': '1.6875e+18',\n",
       " 'stdev': '7.87074289695706e+16'}"
      ]
     },
     "execution_count": 15,
     "metadata": {},
     "output_type": "execute_result"
    }
   ],
   "source": [
    "minx=-160\n",
    "miny=-5\n",
    "maxx=-150\n",
    "maxy=0\n",
    "timestamp='2016-06-09T00:00:00Z'\n",
    "format_='json'\n",
    "layer='MOPITT_CO_Monthly_Total_Column_Day'\n",
    "colormap = 'MOPITT_CO_Monthly_Total_Column_Day.xml'\n",
    "scale = 1\n",
    "ignore_zeroes = False\n",
    "get_stats(minx, miny,maxx,maxy, timestamp,format_, scale, layer, colormap)"
   ]
  },
  {
   "cell_type": "code",
   "execution_count": 16,
   "id": "726015c9-81f6-4fa5-acb8-9e2408ae5dab",
   "metadata": {},
   "outputs": [
    {
     "name": "stdout",
     "output_type": "stream",
     "text": [
      "https://gibs.earthdata.nasa.gov/wms/epsg4326/best/wms.cgi?SERVICE=WMS&VERSION=1.3.0&REQUEST=GetMap&BBOX=-90,-180,90,180&CRS=EPSG:4326&WIDTH=720&HEIGHT=360&LAYERS=GHRSST_L4_MUR25_Sea_Ice_Concentration&STYLES=&FORMAT=image/png&TIME=2016-06-09T00:00:00Z\n"
     ]
    },
    {
     "data": {
      "text/plain": [
       "{'mean': '72.5', 'max': '100.0', 'min': '7.0', 'stdev': '25.29'}"
      ]
     },
     "execution_count": 16,
     "metadata": {},
     "output_type": "execute_result"
    }
   ],
   "source": [
    "minx=-160\n",
    "miny=-5\n",
    "maxx=-150\n",
    "maxy=0\n",
    "timestamp='2016-06-09T00:00:00Z'\n",
    "format_='json'\n",
    "layer='GHRSST_L4_MUR25_Sea_Ice_Concentration'\n",
    "colormap = 'GHRSST_Sea_Ice_Concentration.xml'\n",
    "scale = 1\n",
    "ignore_zeroes = False\n",
    "get_stats(minx, miny,maxx,maxy, timestamp,format_, scale, layer, colormap)"
   ]
  },
  {
   "cell_type": "code",
   "execution_count": 17,
   "id": "fe1c589e-b6f5-4010-9c2d-df4b8abcc905",
   "metadata": {},
   "outputs": [
    {
     "name": "stdout",
     "output_type": "stream",
     "text": [
      "https://gibs.earthdata.nasa.gov/wms/epsg4326/best/wms.cgi?SERVICE=WMS&VERSION=1.3.0&REQUEST=GetMap&BBOX=-90,-180,90,180&CRS=EPSG:4326&WIDTH=720&HEIGHT=360&LAYERS=AIRS_L2_Cloud_Top_Height_Day&STYLES=&FORMAT=image/png&TIME=2016-06-09T00:00:00Z\n"
     ]
    },
    {
     "data": {
      "text/plain": [
       "{'mean': '4.62', 'max': '10.38', 'min': '1.02', 'stdev': '2.62'}"
      ]
     },
     "execution_count": 17,
     "metadata": {},
     "output_type": "execute_result"
    }
   ],
   "source": [
    "minx=-160\n",
    "miny=-5\n",
    "maxx=-150\n",
    "maxy=0\n",
    "timestamp='2016-06-09T00:00:00Z'\n",
    "format_='json'\n",
    "layer='AIRS_L2_Cloud_Top_Height_Day'\n",
    "colormap = 'AIRS_Cloud_Top_Height.xml'\n",
    "scale = 1\n",
    "ignore_zeroes = False\n",
    "get_stats(minx, miny,maxx,maxy, timestamp,format_, scale, layer, colormap)"
   ]
  },
  {
   "cell_type": "code",
   "execution_count": 18,
   "id": "30344e3b-3b95-41a3-8401-c95fe36e422f",
   "metadata": {},
   "outputs": [
    {
     "name": "stdout",
     "output_type": "stream",
     "text": [
      "https://gibs.earthdata.nasa.gov/wms/epsg4326/best/wms.cgi?SERVICE=WMS&VERSION=1.3.0&REQUEST=GetMap&BBOX=-90,-180,90,180&CRS=EPSG:4326&WIDTH=720&HEIGHT=360&LAYERS=AIRS_L2_Cloud_Top_Height_Day&STYLES=&FORMAT=image/png&TIME=2015-02-09T00:00:00Z\n"
     ]
    },
    {
     "data": {
      "text/plain": [
       "{'mean': '2.88', 'max': '5.22', 'min': '0.66', 'stdev': '1.0'}"
      ]
     },
     "execution_count": 18,
     "metadata": {},
     "output_type": "execute_result"
    }
   ],
   "source": [
    "#same as last but with a different date\n",
    "minx=-160\n",
    "miny=-5\n",
    "maxx=-150\n",
    "maxy=0\n",
    "timestamp='2015-02-09T00:00:00Z'\n",
    "format_='json'\n",
    "layer='AIRS_L2_Cloud_Top_Height_Day'\n",
    "colormap = 'AIRS_Cloud_Top_Height.xml'\n",
    "scale = 1\n",
    "ignore_zeroes = False\n",
    "get_stats(minx, miny,maxx,maxy, timestamp,format_, scale, layer, colormap)"
   ]
  },
  {
   "cell_type": "code",
   "execution_count": 43,
   "id": "97390366-7366-4ebd-9f44-6f8ab657c9e5",
   "metadata": {},
   "outputs": [
    {
     "name": "stdout",
     "output_type": "stream",
     "text": [
      ".\n",
      "..\n",
      "api2.py\n",
      "api3.py\n",
      "api_pre.py\n",
      "api.py\n",
      "foobar.py\n",
      "get_stats.ipynb\n",
      "__init__.py\n",
      ".ipynb_checkpoints\n",
      "main.py\n",
      "__pycache__\n",
      "Roboto-Regular.ttf\n",
      "spameggs.py\n",
      "test.py\n",
      "Untitled1.ipynb\n",
      "Untitled2.ipynb\n",
      "Untitled3.ipynb\n",
      "Untitled4.ipynb\n",
      "Untitled5.ipynb\n",
      "Untitled.ipynb\n"
     ]
    },
    {
     "data": {
      "text/plain": [
       "0"
      ]
     },
     "execution_count": 43,
     "metadata": {},
     "output_type": "execute_result"
    }
   ],
   "source": [
    "import subprocess\n",
    "subprocess.call(['ls','-a'])"
   ]
  },
  {
   "cell_type": "code",
   "execution_count": 19,
   "id": "10a5bc06-cb08-4660-8e7d-727542d93262",
   "metadata": {},
   "outputs": [
    {
     "name": "stderr",
     "output_type": "stream",
     "text": [
      "/Users/vaish/Documents/arena/backend/bin/python: can't open file '/Users/vaish/Documents/arena/vaish_podaac_sep23/foobar.py': [Errno 2] No such file or directory\n"
     ]
    },
    {
     "data": {
      "text/plain": [
       "2"
      ]
     },
     "execution_count": 19,
     "metadata": {},
     "output_type": "execute_result"
    }
   ],
   "source": [
    "import subprocess\n",
    "minx=-160\n",
    "miny=-5\n",
    "maxx=-150\n",
    "maxy=0\n",
    "timestamp='2015-02-09T00:00:00Z'\n",
    "format_='json'\n",
    "layer='AIRS_L2_Cloud_Top_Height_Day'\n",
    "colormap = 'AIRS_Cloud_Top_Height.xml'\n",
    "scale = 1\n",
    "subprocess.call(['python', 'foobar.py', str(minx), str(miny), str(maxx), str(maxy), str(timestamp), str(scale), str(layer), str(colormap)])"
   ]
  },
  {
   "cell_type": "code",
   "execution_count": null,
   "id": "71037ea9-2ebf-43e4-94a1-6b87fbc804b3",
   "metadata": {},
   "outputs": [],
   "source": []
  }
 ],
 "metadata": {
  "kernelspec": {
   "display_name": "Python 3 (ipykernel)",
   "language": "python",
   "name": "python3"
  },
  "language_info": {
   "codemirror_mode": {
    "name": "ipython",
    "version": 3
   },
   "file_extension": ".py",
   "mimetype": "text/x-python",
   "name": "python",
   "nbconvert_exporter": "python",
   "pygments_lexer": "ipython3",
   "version": "3.9.12"
  }
 },
 "nbformat": 4,
 "nbformat_minor": 5
}